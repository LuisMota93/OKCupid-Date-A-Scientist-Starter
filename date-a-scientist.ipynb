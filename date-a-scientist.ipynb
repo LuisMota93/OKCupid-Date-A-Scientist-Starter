{
 "cells": [
  {
   "cell_type": "markdown",
   "metadata": {},
   "source": [
    "# OK Cupid Date a Scientist\n",
    "\n",
    "In this project data from OK Cupid dating app will be analysed using machine learning models.\n",
    "\n",
    "To start, even before defining the goals it's necessary to load and inspect the data, see how many columns there are and what each one represents, see the length of the data and find out the main missing values.\n",
    "After all of that it's done, we can now define our goals.\n",
    "\n",
    "Firstly let's load the necessary libraries."
   ]
  },
  {
   "cell_type": "code",
   "execution_count": 7,
   "metadata": {},
   "outputs": [],
   "source": [
    "import pandas as pd\n",
    "import numpy as np\n",
    "import matplotlib.pyplot as plt\n",
    "import seaborn as sns"
   ]
  },
  {
   "cell_type": "markdown",
   "metadata": {},
   "source": [
    "## Load and Inspect the Data\n",
    "\n",
    "Using the pandas library we will import the file \"profiles.csv\", which is the file that all of our data is on.\n",
    "First we'll create a DataFrame named \"profiles\", then the first five rows will be inspected and the name of the columns obtained.\n",
    "\n",
    "After loading and giving a first inspection to the data some things can be said:\n",
    "* the data is composed by 31 diferent columns;\n",
    "* 10 of those columns are essays, wich mean that we will have to ignore them in our data analysis;\n",
    "* the rest of them are about the lifestyles, education, etc. Meaning that they are important to the data analysis;\n",
    "* the data is composed by 59946 rows, and because each row is a user, it means that there is information about 59946 users."
   ]
  },
  {
   "cell_type": "code",
   "execution_count": 4,
   "metadata": {
    "scrolled": true
   },
   "outputs": [
    {
     "name": "stdout",
     "output_type": "stream",
     "text": [
      "   age       body_type               diet    drinks      drugs  \\\n",
      "0   22  a little extra  strictly anything  socially      never   \n",
      "1   35         average       mostly other     often  sometimes   \n",
      "2   38            thin           anything  socially        NaN   \n",
      "3   23            thin         vegetarian  socially        NaN   \n",
      "4   29        athletic                NaN  socially      never   \n",
      "\n",
      "                           education  \\\n",
      "0      working on college/university   \n",
      "1              working on space camp   \n",
      "2     graduated from masters program   \n",
      "3      working on college/university   \n",
      "4  graduated from college/university   \n",
      "\n",
      "                                              essay0  \\\n",
      "0  about me:<br />\\n<br />\\ni would love to think...   \n",
      "1  i am a chef: this is what that means.<br />\\n1...   \n",
      "2  i'm not ashamed of much, but writing public te...   \n",
      "3          i work in a library and go to school. . .   \n",
      "4  hey how's it going? currently vague on the pro...   \n",
      "\n",
      "                                              essay1  \\\n",
      "0  currently working as an international agent fo...   \n",
      "1  dedicating everyday to being an unbelievable b...   \n",
      "2  i make nerdy software for musicians, artists, ...   \n",
      "3          reading things written by old dead people   \n",
      "4                         work work work work + play   \n",
      "\n",
      "                                              essay2  \\\n",
      "0  making people laugh.<br />\\nranting about a go...   \n",
      "1  being silly. having ridiculous amonts of fun w...   \n",
      "2  improvising in different contexts. alternating...   \n",
      "3  playing synthesizers and organizing books acco...   \n",
      "4  creating imagery to look at:<br />\\nhttp://bag...   \n",
      "\n",
      "                                              essay3  ...  \\\n",
      "0  the way i look. i am a six foot half asian, ha...  ...   \n",
      "1                                                NaN  ...   \n",
      "2  my large jaw and large glasses are the physica...  ...   \n",
      "3                  socially awkward but i do my best  ...   \n",
      "4            i smile a lot and my inquisitive nature  ...   \n",
      "\n",
      "                          location  \\\n",
      "0  south san francisco, california   \n",
      "1              oakland, california   \n",
      "2        san francisco, california   \n",
      "3             berkeley, california   \n",
      "4        san francisco, california   \n",
      "\n",
      "                                      offspring orientation  \\\n",
      "0  doesn&rsquo;t have kids, but might want them    straight   \n",
      "1  doesn&rsquo;t have kids, but might want them    straight   \n",
      "2                                           NaN    straight   \n",
      "3                       doesn&rsquo;t want kids    straight   \n",
      "4                                           NaN    straight   \n",
      "\n",
      "                        pets                                  religion sex  \\\n",
      "0  likes dogs and likes cats     agnosticism and very serious about it   m   \n",
      "1  likes dogs and likes cats  agnosticism but not too serious about it   m   \n",
      "2                   has cats                                       NaN   m   \n",
      "3                 likes cats                                       NaN   m   \n",
      "4  likes dogs and likes cats                                       NaN   m   \n",
      "\n",
      "                                 sign     smokes  \\\n",
      "0                              gemini  sometimes   \n",
      "1                              cancer         no   \n",
      "2  pisces but it doesn&rsquo;t matter         no   \n",
      "3                              pisces         no   \n",
      "4                            aquarius         no   \n",
      "\n",
      "                                              speaks     status  \n",
      "0                                            english     single  \n",
      "1  english (fluently), spanish (poorly), french (...     single  \n",
      "2                               english, french, c++  available  \n",
      "3                           english, german (poorly)     single  \n",
      "4                                            english     single  \n",
      "\n",
      "[5 rows x 31 columns]\n",
      "Index(['age', 'body_type', 'diet', 'drinks', 'drugs', 'education', 'essay0',\n",
      "       'essay1', 'essay2', 'essay3', 'essay4', 'essay5', 'essay6', 'essay7',\n",
      "       'essay8', 'essay9', 'ethnicity', 'height', 'income', 'job',\n",
      "       'last_online', 'location', 'offspring', 'orientation', 'pets',\n",
      "       'religion', 'sex', 'sign', 'smokes', 'speaks', 'status'],\n",
      "      dtype='object')\n",
      "59946\n"
     ]
    }
   ],
   "source": [
    "profiles = pd.read_csv(\"profiles.csv\")\n",
    "\n",
    "print(profiles.head())\n",
    "print(profiles.columns)\n",
    "print(len(profiles))"
   ]
  },
  {
   "cell_type": "markdown",
   "metadata": {},
   "source": [
    "## Create Summary Statistics\n",
    "\n",
    "Now that the data as been somewhat explored it's time to get rid of the data that can not be easily explored (the essays) and create visualizations from the other columns.\n",
    "Then let's figure out what are the columns with the most missing values and plot them in an bar plot."
   ]
  },
  {
   "cell_type": "code",
   "execution_count": 25,
   "metadata": {},
   "outputs": [
    {
     "data": {
      "text/plain": [
       "Text(0.5, 1.0, 'Missing Values')"
      ]
     },
     "execution_count": 25,
     "metadata": {},
     "output_type": "execute_result"
    },
    {
     "data": {
      "image/png": "[encoded data removed]",
      "text/plain": [
       "<Figure size 432x288 with 1 Axes>"
      ]
     },
     "metadata": {
      "needs_background": "light"
     },
     "output_type": "display_data"
    }
   ],
   "source": [
    "useful_columns = ['age', 'body_type', 'diet', 'drinks', 'drugs', 'education', 'ethnicity', 'height', 'income', 'job',\n",
    "                  'last_online', 'location', 'offspring', 'orientation', 'pets', 'religion', 'sex', 'sign', 'smokes',\n",
    "                  'speaks', 'status']\n",
    "profiles_clean = profiles[useful_columns]\n",
    "missing = pd.DataFrame()\n",
    "\n",
    "for column in useful_columns:\n",
    "    missing[column] = profiles_clean[column].isna().value_counts()\n",
    "    \n",
    "sns.barplot(data = missing)\n",
    "plt.xticks(rotation = 90)\n",
    "plt.title(\"Missing Values\")"
   ]
  },
  {
   "cell_type": "markdown",
   "metadata": {},
   "source": [
    "#### More data exploration\n",
    "\n",
    "There are 10 columns with no missing values, so first lets see which of them are numeric values.\n",
    "From the 10 columns 3 are of numeric type, wich makes sense."
   ]
  },
  {
   "cell_type": "code",
   "execution_count": 27,
   "metadata": {},
   "outputs": [
    {
     "name": "stdout",
     "output_type": "stream",
     "text": [
      "age              int64\n",
      "height         float64\n",
      "income           int64\n",
      "last_online     object\n",
      "location        object\n",
      "orientation     object\n",
      "sex             object\n",
      "speaks          object\n",
      "status          object\n",
      "dtype: object\n"
     ]
    }
   ],
   "source": [
    "full_columns = [\"age\", \"height\", \"income\", \"last_online\", \"location\", \"orientation\", \"sex\", \"speaks\", \"status\"]\n",
    "full = profiles_clean[full_columns]\n",
    "print(full.dtypes)"
   ]
  },
  {
   "cell_type": "markdown",
   "metadata": {},
   "source": [
    "##### Exploring numeric columns\n",
    "Now let's explore the distribution of two columns, the age and the income."
   ]
  },
  {
   "cell_type": "markdown",
   "metadata": {},
   "source": [
    "###### Age\n",
    "For the age column whe are interested in knowing the average and median age. We will also create some plots to see the distribution of the data.\n",
    "From the histogram it's possible to see that the age distribution is right skewed, being that the average and the median values make sense.\n",
    "From the boxplot it's clear to see some outliers."
   ]
  },
  {
   "cell_type": "code",
   "execution_count": 36,
   "metadata": {},
   "outputs": [
    {
     "name": "stdout",
     "output_type": "stream",
     "text": [
      "The average age is of 32.3402895939679 years.\n",
      "The median age is of 30.0 years.\n",
      "The oldest person is 110 years old.\n",
      "The youngest person is 18 years old.\n",
      "The age range is of 92 years.\n"
     ]
    },
    {
     "data": {
      "text/plain": [
       "Text(0, 0.5, 'Amount')"
      ]
     },
     "execution_count": 36,
     "metadata": {},
     "output_type": "execute_result"
    },
    {
     "data": {
      "image/png": "[encoded data removed]",
      "text/plain": [
       "<Figure size 432x288 with 1 Axes>"
      ]
     },
     "metadata": {
      "needs_background": "light"
     },
     "output_type": "display_data"
    }
   ],
   "source": [
    "print(\"The average age is of {0} years.\".format(np.mean(full[\"age\"])))\n",
    "print(\"The median age is of {0} years.\".format(np.median(full[\"age\"])))\n",
    "\n",
    "oldest = np.max(full[\"age\"])\n",
    "youngest = np.min(full[\"age\"])\n",
    "age_range = oldest - youngest\n",
    "print(\"The oldest person is {0} years old.\".format(oldest))\n",
    "print(\"The youngest person is {0} years old.\".format(youngest))\n",
    "print(\"The age range is of {0} years.\".format(age_range))\n",
    "\n",
    "plt.hist(full[\"age\"], bins = 20, edgecolor = \"black\")\n",
    "plt.title(\"Age distribution\")\n",
    "plt.xlabel(\"Years\")\n",
    "plt.ylabel(\"Amount\")"
   ]
  },
  {
   "cell_type": "code",
   "execution_count": 38,
   "metadata": {},
   "outputs": [
    {
     "data": {
      "text/plain": [
       "Text(0.5, 1.0, 'Age boxplot')"
      ]
     },
     "execution_count": 38,
     "metadata": {},
     "output_type": "execute_result"
    },
    {
     "data": {
      "image/png": "[encoded data removed]",
      "text/plain": [
       "<Figure size 432x288 with 1 Axes>"
      ]
     },
     "metadata": {
      "needs_background": "light"
     },
     "output_type": "display_data"
    }
   ],
   "source": [
    "sns.boxplot(data = full, y = \"age\")\n",
    "plt.title(\"Age boxplot\")"
   ]
  }
 ],
 "metadata": {
  "kernelspec": {
   "display_name": "Python 3",
   "language": "python",
   "name": "python3"
  },
  "language_info": {
   "codemirror_mode": {
    "name": "ipython",
    "version": 3
   },
   "file_extension": ".py",
   "mimetype": "text/x-python",
   "name": "python",
   "nbconvert_exporter": "python",
   "pygments_lexer": "ipython3",
   "version": "3.7.6"
  }
 },
 "nbformat": 4,
 "nbformat_minor": 4
}
