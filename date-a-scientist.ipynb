{
 "cells": [
  {
   "cell_type": "markdown",
   "metadata": {},
   "source": [
    "# OK Cupid Date a Scientist\n",
    "\n",
    "In this project data from OK Cupid dating app will be analysed using machine learning models.\n",
    "\n",
    "To start, even before defining the goals it's necessary to load and inspect the data, see how many columns there are and what each one represents, see the length of the data and find out the main missing values.\n",
    "After all of that it's done, we can now define our goals.\n",
    "\n",
    "Firstly let's load the necessary libraries."
   ]
  },
  {
   "cell_type": "code",
   "execution_count": 1,
   "metadata": {},
   "outputs": [],
   "source": [
    "import pandas as pd\n",
    "import numpy as np\n",
    "import matplotlib.pyplot as plt\n",
    "import seaborn as sns"
   ]
  },
  {
   "cell_type": "markdown",
   "metadata": {},
   "source": [
    "## Load and Inspect the Data\n",
    "\n",
    "Using the pandas library we will import the file \"profiles.csv\", which is the file that all of our data is on.\n",
    "First we'll create a DataFrame named \"profiles\", then the first five rows will be inspected and the name of the columns obtained.\n",
    "\n",
    "After loading and giving a first inspection to the data some things can be said:\n",
    "* the data is composed by 31 diferent columns;\n",
    "* 10 of those columns are essays, wich mean that we will have to ignore them in our data analysis;\n",
    "* the rest of them are about the lifestyles, education, etc. Meaning that they are important to the data analysis;\n",
    "* the data is composed by 59946 rows, and because each row is a user, it means that there is information about 59946 users."
   ]
  },
  {
   "cell_type": "code",
   "execution_count": 2,
   "metadata": {
    "scrolled": true
   },
   "outputs": [
    {
     "name": "stdout",
     "output_type": "stream",
     "text": [
      "   age       body_type               diet    drinks      drugs  \\\n",
      "0   22  a little extra  strictly anything  socially      never   \n",
      "1   35         average       mostly other     often  sometimes   \n",
      "2   38            thin           anything  socially        NaN   \n",
      "3   23            thin         vegetarian  socially        NaN   \n",
      "4   29        athletic                NaN  socially      never   \n",
      "\n",
      "                           education  \\\n",
      "0      working on college/university   \n",
      "1              working on space camp   \n",
      "2     graduated from masters program   \n",
      "3      working on college/university   \n",
      "4  graduated from college/university   \n",
      "\n",
      "                                              essay0  \\\n",
      "0  about me:<br />\\n<br />\\ni would love to think...   \n",
      "1  i am a chef: this is what that means.<br />\\n1...   \n",
      "2  i'm not ashamed of much, but writing public te...   \n",
      "3          i work in a library and go to school. . .   \n",
      "4  hey how's it going? currently vague on the pro...   \n",
      "\n",
      "                                              essay1  \\\n",
      "0  currently working as an international agent fo...   \n",
      "1  dedicating everyday to being an unbelievable b...   \n",
      "2  i make nerdy software for musicians, artists, ...   \n",
      "3          reading things written by old dead people   \n",
      "4                         work work work work + play   \n",
      "\n",
      "                                              essay2  \\\n",
      "0  making people laugh.<br />\\nranting about a go...   \n",
      "1  being silly. having ridiculous amonts of fun w...   \n",
      "2  improvising in different contexts. alternating...   \n",
      "3  playing synthesizers and organizing books acco...   \n",
      "4  creating imagery to look at:<br />\\nhttp://bag...   \n",
      "\n",
      "                                              essay3  ...  \\\n",
      "0  the way i look. i am a six foot half asian, ha...  ...   \n",
      "1                                                NaN  ...   \n",
      "2  my large jaw and large glasses are the physica...  ...   \n",
      "3                  socially awkward but i do my best  ...   \n",
      "4            i smile a lot and my inquisitive nature  ...   \n",
      "\n",
      "                          location  \\\n",
      "0  south san francisco, california   \n",
      "1              oakland, california   \n",
      "2        san francisco, california   \n",
      "3             berkeley, california   \n",
      "4        san francisco, california   \n",
      "\n",
      "                                      offspring orientation  \\\n",
      "0  doesn&rsquo;t have kids, but might want them    straight   \n",
      "1  doesn&rsquo;t have kids, but might want them    straight   \n",
      "2                                           NaN    straight   \n",
      "3                       doesn&rsquo;t want kids    straight   \n",
      "4                                           NaN    straight   \n",
      "\n",
      "                        pets                                  religion sex  \\\n",
      "0  likes dogs and likes cats     agnosticism and very serious about it   m   \n",
      "1  likes dogs and likes cats  agnosticism but not too serious about it   m   \n",
      "2                   has cats                                       NaN   m   \n",
      "3                 likes cats                                       NaN   m   \n",
      "4  likes dogs and likes cats                                       NaN   m   \n",
      "\n",
      "                                 sign     smokes  \\\n",
      "0                              gemini  sometimes   \n",
      "1                              cancer         no   \n",
      "2  pisces but it doesn&rsquo;t matter         no   \n",
      "3                              pisces         no   \n",
      "4                            aquarius         no   \n",
      "\n",
      "                                              speaks     status  \n",
      "0                                            english     single  \n",
      "1  english (fluently), spanish (poorly), french (...     single  \n",
      "2                               english, french, c++  available  \n",
      "3                           english, german (poorly)     single  \n",
      "4                                            english     single  \n",
      "\n",
      "[5 rows x 31 columns]\n",
      "Index(['age', 'body_type', 'diet', 'drinks', 'drugs', 'education', 'essay0',\n",
      "       'essay1', 'essay2', 'essay3', 'essay4', 'essay5', 'essay6', 'essay7',\n",
      "       'essay8', 'essay9', 'ethnicity', 'height', 'income', 'job',\n",
      "       'last_online', 'location', 'offspring', 'orientation', 'pets',\n",
      "       'religion', 'sex', 'sign', 'smokes', 'speaks', 'status'],\n",
      "      dtype='object')\n",
      "59946\n"
     ]
    }
   ],
   "source": [
    "profiles = pd.read_csv(\"profiles.csv\")\n",
    "\n",
    "print(profiles.head())\n",
    "print(profiles.columns)\n",
    "print(len(profiles))"
   ]
  },
  {
   "cell_type": "markdown",
   "metadata": {},
   "source": [
    "## Create Summary Statistics\n",
    "\n",
    "Now that the data as been somewhat explored it's time to get rid of the data that can not be easily explored (the essays) and create visualizations from the other columns.\n",
    "Then let's figure out what are the columns with the most missing values and plot them in an bar plot."
   ]
  },
  {
   "cell_type": "code",
   "execution_count": 3,
   "metadata": {},
   "outputs": [
    {
     "data": {
      "text/plain": [
       "Text(0.5, 1.0, 'Missing Values')"
      ]
     },
     "execution_count": 3,
     "metadata": {},
     "output_type": "execute_result"
    },
    {
     "data": {
      "image/png": "[encoded data removed]",
      "text/plain": [
       "<Figure size 432x288 with 1 Axes>"
      ]
     },
     "metadata": {
      "needs_background": "light"
     },
     "output_type": "display_data"
    }
   ],
   "source": [
    "useful_columns = ['age', 'body_type', 'diet', 'drinks', 'drugs', 'education', 'ethnicity', 'height', 'income', 'job',\n",
    "                  'last_online', 'location', 'offspring', 'orientation', 'pets', 'religion', 'sex', 'sign', 'smokes',\n",
    "                  'speaks', 'status']\n",
    "profiles_clean = profiles[useful_columns]\n",
    "missing = pd.DataFrame()\n",
    "\n",
    "for column in useful_columns:\n",
    "    missing[column] = profiles_clean[column].isna().value_counts()\n",
    "    \n",
    "sns.barplot(data = missing)\n",
    "plt.xticks(rotation = 90)\n",
    "plt.title(\"Missing Values\")"
   ]
  },
  {
   "cell_type": "markdown",
   "metadata": {},
   "source": [
    "#### More data exploration\n",
    "\n",
    "There are 10 columns with no missing values, so first lets see which of them are numeric values.\n",
    "From the 10 columns 3 are of numeric type, wich makes sense."
   ]
  },
  {
   "cell_type": "code",
   "execution_count": 4,
   "metadata": {},
   "outputs": [
    {
     "name": "stdout",
     "output_type": "stream",
     "text": [
      "age              int64\n",
      "height         float64\n",
      "income           int64\n",
      "last_online     object\n",
      "location        object\n",
      "orientation     object\n",
      "sex             object\n",
      "speaks          object\n",
      "status          object\n",
      "dtype: object\n"
     ]
    }
   ],
   "source": [
    "full_columns = [\"age\", \"height\", \"income\", \"last_online\", \"location\", \"orientation\", \"sex\", \"speaks\", \"status\"]\n",
    "full = profiles_clean[full_columns]\n",
    "print(full.dtypes)"
   ]
  },
  {
   "cell_type": "markdown",
   "metadata": {},
   "source": [
    "##### Exploring numeric columns\n",
    "Now let's explore the distribution of two columns, the age and the income."
   ]
  },
  {
   "cell_type": "markdown",
   "metadata": {},
   "source": [
    "###### Age\n",
    "For the age column whe are interested in knowing the average and median age. We will also create some plots to see the distribution of the data.\n",
    "From the histogram it's possible to see that the age distribution is right skewed, being that the average and the median values make sense.\n",
    "From the boxplot it's clear to see some outliers."
   ]
  },
  {
   "cell_type": "code",
   "execution_count": 5,
   "metadata": {},
   "outputs": [
    {
     "name": "stdout",
     "output_type": "stream",
     "text": [
      "The average age is of 32.3402895939679 years.\n",
      "The median age is of 30.0 years.\n",
      "The oldest person is 110 years old.\n",
      "The youngest person is 18 years old.\n",
      "The age range is of 92 years.\n"
     ]
    },
    {
     "data": {
      "text/plain": [
       "Text(0, 0.5, 'Amount')"
      ]
     },
     "execution_count": 5,
     "metadata": {},
     "output_type": "execute_result"
    },
    {
     "data": {
      "image/png": "[encoded data removed]",
      "text/plain": [
       "<Figure size 432x288 with 1 Axes>"
      ]
     },
     "metadata": {
      "needs_background": "light"
     },
     "output_type": "display_data"
    }
   ],
   "source": [
    "print(\"The average age is of {0} years.\".format(np.mean(full[\"age\"])))\n",
    "print(\"The median age is of {0} years.\".format(np.median(full[\"age\"])))\n",
    "\n",
    "oldest = np.max(full[\"age\"])\n",
    "youngest = np.min(full[\"age\"])\n",
    "age_range = oldest - youngest\n",
    "print(\"The oldest person is {0} years old.\".format(oldest))\n",
    "print(\"The youngest person is {0} years old.\".format(youngest))\n",
    "print(\"The age range is of {0} years.\".format(age_range))\n",
    "\n",
    "plt.hist(full[\"age\"], bins = 20, edgecolor = \"black\")\n",
    "plt.title(\"Age distribution\")\n",
    "plt.xlabel(\"Years\")\n",
    "plt.ylabel(\"Amount\")"
   ]
  },
  {
   "cell_type": "code",
   "execution_count": 6,
   "metadata": {},
   "outputs": [
    {
     "data": {
      "text/plain": [
       "Text(0.5, 1.0, 'Age boxplot')"
      ]
     },
     "execution_count": 6,
     "metadata": {},
     "output_type": "execute_result"
    },
    {
     "data": {
      "image/png": "[encoded data removed]",
      "text/plain": [
       "<Figure size 432x288 with 1 Axes>"
      ]
     },
     "metadata": {
      "needs_background": "light"
     },
     "output_type": "display_data"
    }
   ],
   "source": [
    "sns.boxplot(data = full, y = \"age\")\n",
    "plt.title(\"Age boxplot\")"
   ]
  },
  {
   "cell_type": "markdown",
   "metadata": {},
   "source": [
    "###### Income\n",
    "Now let's explore the income of the users.\n",
    "From the results produced below it's clear to see that althoug the income column has no missing values, is due to the fact that whenever ther was no income, it was attributed a value of -1, and being the number of users with that value so high we will not continue the analysis in this variable."
   ]
  },
  {
   "cell_type": "code",
   "execution_count": 7,
   "metadata": {},
   "outputs": [
    {
     "name": "stdout",
     "output_type": "stream",
     "text": [
      "The average income is of 20033.222533613585.\n",
      "The median income is of -1.0.\n",
      "The maximum income is of 1000000.\n",
      "The maximum income is of -1.\n",
      "The income range is of 1000001.\n",
      "-1          48442\n",
      " 20000       2952\n",
      " 100000      1621\n",
      " 80000       1111\n",
      " 30000       1048\n",
      " 40000       1005\n",
      " 50000        975\n",
      " 60000        736\n",
      " 70000        707\n",
      " 150000       631\n",
      " 1000000      521\n",
      " 250000       149\n",
      " 500000        48\n",
      "Name: income, dtype: int64\n"
     ]
    }
   ],
   "source": [
    "print(\"The average income is of {0}.\".format(np.mean(full[\"income\"])))\n",
    "print(\"The median income is of {0}.\".format(np.median(full[\"income\"])))\n",
    "\n",
    "max_in = np.max(full[\"income\"])\n",
    "min_in = np.min(full[\"income\"])\n",
    "income_range = max_in - min_in\n",
    "print(\"The maximum income is of {0}.\".format(max_in))\n",
    "print(\"The maximum income is of {0}.\".format(min_in))\n",
    "print(\"The income range is of {0}.\".format(income_range))\n",
    "\n",
    "print(full[\"income\"].value_counts())"
   ]
  },
  {
   "cell_type": "markdown",
   "metadata": {},
   "source": [
    "##### More variables\n",
    "Now let's explore some other variables.\n",
    "The variables that are interesting to explore are:\n",
    "* `orientation`\n",
    "* `sex`"
   ]
  },
  {
   "cell_type": "markdown",
   "metadata": {},
   "source": [
    "###### Orientation and Sex\n",
    "First let's see the values available for both variables, next we'll do some summary statistics and to end we'll see if there is any correlation between the two.\n",
    "\n",
    "There are three categories for the `orientation` variable:\n",
    "* straight\n",
    "* gay\n",
    "* bisexual\n",
    "\n",
    "And two categories for the `sex` variable, making it a binary variable:\n",
    "* male\n",
    "* female\n",
    "\n",
    "In a first visual analysis it's possible to say that the majority of users are straight and there are more mens in the dataset.\n",
    "\n",
    "With the last rwo bar plots it's clear to see that the straight orientation is dominant in both sexes."
   ]
  },
  {
   "cell_type": "code",
   "execution_count": 8,
   "metadata": {},
   "outputs": [
    {
     "name": "stdout",
     "output_type": "stream",
     "text": [
      "Orientation values:\n",
      "straight    51606\n",
      "gay          5573\n",
      "bisexual     2767\n",
      "Name: orientation, dtype: int64\n",
      "\n",
      "Sex values:\n",
      "m    35829\n",
      "f    24117\n",
      "Name: sex, dtype: int64\n"
     ]
    }
   ],
   "source": [
    "print(\"Orientation values:\")\n",
    "print(full[\"orientation\"].value_counts())\n",
    "print(\"\\nSex values:\")\n",
    "print(full[\"sex\"].value_counts())"
   ]
  },
  {
   "cell_type": "code",
   "execution_count": 9,
   "metadata": {},
   "outputs": [
    {
     "data": {
      "text/plain": [
       "Text(0.5, 1.0, 'Orientation Count')"
      ]
     },
     "execution_count": 9,
     "metadata": {},
     "output_type": "execute_result"
    },
    {
     "data": {
      "image/png": "[encoded data removed]",
      "text/plain": [
       "<Figure size 432x288 with 1 Axes>"
      ]
     },
     "metadata": {
      "needs_background": "light"
     },
     "output_type": "display_data"
    }
   ],
   "source": [
    "sns.countplot(full[\"orientation\"])\n",
    "plt.title(\"Orientation Count\")"
   ]
  },
  {
   "cell_type": "code",
   "execution_count": 10,
   "metadata": {},
   "outputs": [
    {
     "data": {
      "text/plain": [
       "Text(0.5, 1.0, 'Sex Count')"
      ]
     },
     "execution_count": 10,
     "metadata": {},
     "output_type": "execute_result"
    },
    {
     "data": {
      "image/png": "[encoded data removed]",
      "text/plain": [
       "<Figure size 432x288 with 1 Axes>"
      ]
     },
     "metadata": {
      "needs_background": "light"
     },
     "output_type": "display_data"
    }
   ],
   "source": [
    "sns.countplot(full[\"sex\"])\n",
    "plt.title(\"Sex Count\")"
   ]
  },
  {
   "cell_type": "code",
   "execution_count": 11,
   "metadata": {},
   "outputs": [
    {
     "data": {
      "text/plain": [
       "Text(0.5, 1.0, 'Male Orientation Count')"
      ]
     },
     "execution_count": 11,
     "metadata": {},
     "output_type": "execute_result"
    },
    {
     "data": {
      "image/png": "[encoded data removed]",
      "text/plain": [
       "<Figure size 432x288 with 1 Axes>"
      ]
     },
     "metadata": {
      "needs_background": "light"
     },
     "output_type": "display_data"
    }
   ],
   "source": [
    "male_orientation = full[\"orientation\"][full[\"sex\"] == \"m\"]\n",
    "female_orientation = full[\"orientation\"][full[\"sex\"] == \"f\"]\n",
    "\n",
    "sns.countplot(male_orientation)\n",
    "plt.title(\"Male Orientation Count\")"
   ]
  },
  {
   "cell_type": "code",
   "execution_count": 12,
   "metadata": {},
   "outputs": [
    {
     "data": {
      "text/plain": [
       "Text(0.5, 1.0, 'Female Orientation Count')"
      ]
     },
     "execution_count": 12,
     "metadata": {},
     "output_type": "execute_result"
    },
    {
     "data": {
      "image/png": "[encoded data removed]",
      "text/plain": [
       "<Figure size 432x288 with 1 Axes>"
      ]
     },
     "metadata": {
      "needs_background": "light"
     },
     "output_type": "display_data"
    }
   ],
   "source": [
    "sns.countplot(female_orientation)\n",
    "plt.title(\"Female Orientation Count\")"
   ]
  },
  {
   "cell_type": "markdown",
   "metadata": {},
   "source": [
    "###### Orientation table of proportions\n",
    "It is interesting to see the proportion of the orientations i both sexes, and to visualize that a table of proportions it's the best option."
   ]
  },
  {
   "cell_type": "code",
   "execution_count": 13,
   "metadata": {},
   "outputs": [
    {
     "name": "stdout",
     "output_type": "stream",
     "text": [
      "orientation  bisexual       gay  straight\n",
      "sex                                      \n",
      "f            0.033297  0.026491  0.342525\n",
      "m            0.012862  0.066476  0.518350\n"
     ]
    }
   ],
   "source": [
    "or_freq_tab = pd.crosstab(full[\"sex\"], full[\"orientation\"])\n",
    "or_prop_tab = or_freq_tab / len(full)\n",
    "print(or_prop_tab)"
   ]
  },
  {
   "cell_type": "markdown",
   "metadata": {},
   "source": [
    "## Preprocessing data\n",
    "Now that we an analysis of the main factors of the population it's time to create a machine learning model to predict the signs mmissing in the data. But beforecreating a model it is important to preprocess the data.\n",
    "The columns chosen for the building of the model are:\n",
    "* `diet`\n",
    "* `orientation`\n",
    "* `drinks`\n",
    "* `offspring`\n",
    "* `smokes`\n",
    "* `status`\n",
    "* `sign`\n",
    "\n",
    "Our goal is to predict the sign of the users, so we will create two dataframes that has only the rows with the sign values and one with the rows with missing sign values, in order to predict the missing values.\n",
    "\n",
    "We will go one by one and fill or drop the missing values, and turning them into numeric variables able to be analysed."
   ]
  },
  {
   "cell_type": "code",
   "execution_count": 14,
   "metadata": {},
   "outputs": [
    {
     "name": "stdout",
     "output_type": "stream",
     "text": [
      "diet values:\n",
      "['strictly anything' 'mostly other' 'anything' 'vegetarian' nan\n",
      " 'mostly anything' 'mostly vegetarian' 'strictly vegan'\n",
      " 'strictly vegetarian' 'mostly vegan' 'strictly other' 'mostly halal'\n",
      " 'other' 'vegan' 'mostly kosher' 'strictly halal' 'halal'\n",
      " 'strictly kosher' 'kosher']\n",
      "orientation values:\n",
      "['straight' 'bisexual' 'gay']\n",
      "drinks values:\n",
      "['socially' 'often' 'not at all' 'rarely' nan 'very often' 'desperately']\n",
      "offspring values:\n",
      "['doesn&rsquo;t have kids, but might want them' nan\n",
      " 'doesn&rsquo;t want kids' 'doesn&rsquo;t have kids, but wants them'\n",
      " 'doesn&rsquo;t have kids' 'wants kids' 'has a kid' 'has kids'\n",
      " 'doesn&rsquo;t have kids, and doesn&rsquo;t want any'\n",
      " 'has kids, but doesn&rsquo;t want more'\n",
      " 'has a kid, but doesn&rsquo;t want more' 'has a kid, and wants more'\n",
      " 'has kids, and might want more' 'might want kids'\n",
      " 'has a kid, and might want more' 'has kids, and wants more']\n",
      "smokes values:\n",
      "['sometimes' 'no' nan 'when drinking' 'yes' 'trying to quit']\n",
      "status values:\n",
      "['single' 'available' 'seeing someone' 'married' 'unknown']\n",
      "sign values:\n",
      "['gemini' 'cancer' 'pisces but it doesn&rsquo;t matter' 'pisces'\n",
      " 'aquarius' 'taurus' 'virgo' 'sagittarius'\n",
      " 'gemini but it doesn&rsquo;t matter' 'cancer but it doesn&rsquo;t matter'\n",
      " 'leo but it doesn&rsquo;t matter' 'aquarius but it doesn&rsquo;t matter'\n",
      " 'aries and it&rsquo;s fun to think about'\n",
      " 'libra but it doesn&rsquo;t matter'\n",
      " 'pisces and it&rsquo;s fun to think about' 'libra'\n",
      " 'taurus but it doesn&rsquo;t matter'\n",
      " 'sagittarius but it doesn&rsquo;t matter' 'scorpio and it matters a lot'\n",
      " 'gemini and it&rsquo;s fun to think about'\n",
      " 'leo and it&rsquo;s fun to think about'\n",
      " 'cancer and it&rsquo;s fun to think about'\n",
      " 'libra and it&rsquo;s fun to think about'\n",
      " 'aquarius and it&rsquo;s fun to think about'\n",
      " 'virgo but it doesn&rsquo;t matter'\n",
      " 'scorpio and it&rsquo;s fun to think about'\n",
      " 'capricorn but it doesn&rsquo;t matter' 'scorpio'\n",
      " 'capricorn and it&rsquo;s fun to think about' 'leo'\n",
      " 'aries but it doesn&rsquo;t matter' 'aries'\n",
      " 'scorpio but it doesn&rsquo;t matter'\n",
      " 'sagittarius and it&rsquo;s fun to think about'\n",
      " 'libra and it matters a lot' 'taurus and it&rsquo;s fun to think about'\n",
      " 'leo and it matters a lot' 'virgo and it&rsquo;s fun to think about'\n",
      " 'cancer and it matters a lot' 'capricorn' 'pisces and it matters a lot'\n",
      " 'aries and it matters a lot' 'capricorn and it matters a lot'\n",
      " 'aquarius and it matters a lot' 'sagittarius and it matters a lot'\n",
      " 'gemini and it matters a lot' 'taurus and it matters a lot'\n",
      " 'virgo and it matters a lot']\n"
     ]
    }
   ],
   "source": [
    "prediction_columns = [\"diet\", \"orientation\", \"drinks\", \"offspring\", \"smokes\", \"status\", \"sign\"]\n",
    "profiles_sign = profiles_clean.dropna(subset = [\"sign\"])\n",
    "profiles_sign = profiles_sign[prediction_columns]\n",
    "profiles_no_sign = profiles_clean[profiles_clean[\"sign\"].isna()]\n",
    "profiles_no_sign = profiles_no_sign[prediction_columns]\n",
    "profiles_no_sign = profiles_no_sign.drop([\"sign\"], axis = 1)\n",
    "\n",
    "def column_values(data, column_list):\n",
    "    for column in column_list:\n",
    "        print(column + \" values:\")\n",
    "        print(data[column].unique())\n",
    "\n",
    "column_values(profiles_sign, prediction_columns)"
   ]
  },
  {
   "cell_type": "code",
   "execution_count": 15,
   "metadata": {},
   "outputs": [
    {
     "name": "stdout",
     "output_type": "stream",
     "text": [
      "   diet  orientation  drinks  offspring  smokes  status  sign\n",
      "0     0            0       0          0       0       0     0\n",
      "1     0            0       0          0       1       0     1\n",
      "2     0            0       0          0       1       1     2\n",
      "3     1            0       0          0       1       0     2\n",
      "4     0            0       0          0       1       0     3\n"
     ]
    }
   ],
   "source": [
    "profiles_sign = profiles_sign.fillna(value = {\"diet\": \"anything\", \"drinks\": \"no\", \"offspring\": \"no\", \"smokes\": \"no\"})\n",
    "\n",
    "def category_values(data, column, ordered_list):\n",
    "    data[column] = pd.Categorical(data[column], ordered_list, ordered = True)\n",
    "    data[column] = data[column].cat.codes\n",
    "    \n",
    "profiles_sign = profiles_sign.replace({\"diet\": {'strictly anything': \"anything\", 'mostly other': \"anything\",\n",
    "                                               'mostly anything': \"anything\", 'strictly other': \"anything\", 'other': \"anything\",\n",
    "                                               'mostly vegetarian': 'vegetarian', 'strictly vegetarian': 'vegetarian',\n",
    "                                               'strictly vegan': 'vegan', 'mostly vegan': 'vegan', 'mostly halal': 'halal',\n",
    "                                               'strictly halal': 'halal', 'mostly kosher': 'kosher',\n",
    "                                               'strictly kosher': 'kosher'},\n",
    "                                       \"drinks\": {'socially': \"yes\", 'often': \"yes\", 'rarely': \"yes\", 'very often': \"yes\",\n",
    "                                                 'desperately': \"yes\", 'not at all': \"no\"},\n",
    "                                       \"offspring\": {'doesn&rsquo;t have kids, but might want them': \"no\",\n",
    "                                                     'doesn&rsquo;t want kids': \"no\", 'might want kids': \"no\",\n",
    "                                                     'doesn&rsquo;t have kids, but wants them': \"no\",\n",
    "                                                     'doesn&rsquo;t have kids': \"no\", 'wants kids': \"no\",                                                     \n",
    "                                                     'doesn&rsquo;t have kids, and doesn&rsquo;t want any': \"no\",\n",
    "                                                     'has a kid': \"yes\", 'has kids': \"yes\",\n",
    "                                                     'has kids, but doesn&rsquo;t want more': \"yes\",\n",
    "                                                     'has a kid, but doesn&rsquo;t want more': \"yes\",\n",
    "                                                     'has a kid, and wants more': \"yes\", 'has kids, and might want more': \"yes\",\n",
    "                                                     'has a kid, and might want more': \"yes\",\n",
    "                                                     'has kids, and wants more': \"yes\"},\n",
    "                                       \"smokes\": {'sometimes': 'yes', 'when drinking': 'yes', 'trying to quit': 'yes'},\n",
    "                                       \"sign\": {'gemini but it doesn&rsquo;t matter': 'gemini',\n",
    "                                                'gemini and it matters a lot': 'gemini',\n",
    "                                                'gemini and it&rsquo;s fun to think about': 'gemini',\n",
    "                                                'cancer but it doesn&rsquo;t matter': 'cancer',\n",
    "                                                'cancer and it&rsquo;s fun to think about': 'cancer',\n",
    "                                                'cancer and it matters a lot': 'cancer',                                                \n",
    "                                                'pisces but it doesn&rsquo;t matter': 'pisces',\n",
    "                                                'pisces and it&rsquo;s fun to think about': 'pisces',\n",
    "                                                'pisces and it matters a lot': 'pisces',\n",
    "                                                'aquarius but it doesn&rsquo;t matter': 'aquarius',\n",
    "                                                'aquarius and it&rsquo;s fun to think about': 'aquarius',\n",
    "                                                'aquarius and it matters a lot': 'aquarius',                                                \n",
    "                                                'taurus but it doesn&rsquo;t matter': 'taurus',\n",
    "                                                'taurus and it&rsquo;s fun to think about': 'taurus',\n",
    "                                                'taurus and it matters a lot': 'taurus',                                                \n",
    "                                                'virgo but it doesn&rsquo;t matter': 'virgo',\n",
    "                                                'virgo and it&rsquo;s fun to think about': 'virgo',\n",
    "                                                'virgo and it matters a lot': 'virgo',                                                \n",
    "                                                'sagittarius but it doesn&rsquo;t matter': 'sagittarius',\n",
    "                                                'sagittarius and it&rsquo;s fun to think about': 'sagittarius',\n",
    "                                                'sagittarius and it matters a lot': 'sagittarius',\n",
    "                                                'leo but it doesn&rsquo;t matter': 'leo',\n",
    "                                                'leo and it&rsquo;s fun to think about': 'leo', 'leo and it matters a lot': 'leo',\n",
    "                                                'aries and it&rsquo;s fun to think about': 'aries',\n",
    "                                                'aries but it doesn&rsquo;t matter': 'aries',\n",
    "                                                'aries and it matters a lot': 'aries',\n",
    "                                                'libra but it doesn&rsquo;t matter': 'libra',\n",
    "                                                'libra and it&rsquo;s fun to think about': 'libra',\n",
    "                                                'libra and it matters a lot': 'libra',\n",
    "                                                'scorpio and it matters a lot': 'scorpio',\n",
    "                                                'scorpio and it&rsquo;s fun to think about': 'scorpio',\n",
    "                                                'scorpio but it doesn&rsquo;t matter': 'scorpio',\n",
    "                                                'capricorn but it doesn&rsquo;t matter': 'capricorn',\n",
    "                                                'capricorn and it&rsquo;s fun to think about': 'capricorn',\n",
    "                                                'capricorn and it matters a lot': 'capricorn'}})\n",
    "\n",
    "for column in prediction_columns:\n",
    "    category_values(profiles_sign, column, profiles_sign[column].unique())\n",
    "    \n",
    "print(profiles_sign.head())"
   ]
  },
  {
   "cell_type": "code",
   "execution_count": 16,
   "metadata": {
    "scrolled": false
   },
   "outputs": [
    {
     "name": "stdout",
     "output_type": "stream",
     "text": [
      "diet values:\n",
      "['mostly anything' nan 'anything' 'strictly anything' 'mostly vegetarian'\n",
      " 'vegetarian' 'strictly vegetarian' 'mostly kosher' 'mostly vegan'\n",
      " 'mostly other' 'strictly halal' 'vegan' 'other' 'strictly other'\n",
      " 'mostly halal' 'strictly vegan' 'halal' 'strictly kosher' 'kosher']\n",
      "orientation values:\n",
      "['straight' 'bisexual' 'gay']\n",
      "drinks values:\n",
      "['socially' nan 'often' 'rarely' 'not at all' 'desperately' 'very often']\n",
      "offspring values:\n",
      "[nan 'doesn&rsquo;t have kids, but wants them' 'doesn&rsquo;t have kids'\n",
      " 'doesn&rsquo;t want kids' 'doesn&rsquo;t have kids, but might want them'\n",
      " 'has kids' 'has a kid'\n",
      " 'doesn&rsquo;t have kids, and doesn&rsquo;t want any'\n",
      " 'has kids, but doesn&rsquo;t want more'\n",
      " 'has a kid, but doesn&rsquo;t want more' 'has a kid, and might want more'\n",
      " 'wants kids' 'has a kid, and wants more' 'has kids, and might want more'\n",
      " 'might want kids']\n",
      "smokes values:\n",
      "['no' nan 'when drinking' 'sometimes' 'yes' 'trying to quit']\n",
      "status values:\n",
      "['single' 'available' 'seeing someone' 'married' 'unknown']\n"
     ]
    }
   ],
   "source": [
    "no_sign_columns = [\"diet\", \"orientation\", \"drinks\", \"offspring\", \"smokes\", \"status\"]\n",
    "column_values(profiles_no_sign, no_sign_columns)"
   ]
  },
  {
   "cell_type": "code",
   "execution_count": 17,
   "metadata": {},
   "outputs": [
    {
     "name": "stdout",
     "output_type": "stream",
     "text": [
      "    diet  orientation  drinks  offspring  smokes  status\n",
      "13     0            0       0          0       0       0\n",
      "28     0            0       0          0       0       0\n",
      "31     0            0       0          0       0       0\n",
      "35     0            0       1          0       0       0\n",
      "39     0            0       0          0       0       0\n"
     ]
    }
   ],
   "source": [
    "profiles_no_sign = profiles_no_sign.fillna(value = {\"diet\": \"anything\", \"drinks\": \"no\", \"offspring\": \"no\", \"smokes\": \"no\"})\n",
    "    \n",
    "profiles_no_sign = profiles_no_sign.replace({\"diet\": {'strictly anything': \"anything\", 'mostly other': \"anything\",\n",
    "                                               'mostly anything': \"anything\", 'strictly other': \"anything\", 'other': \"anything\",\n",
    "                                               'mostly vegetarian': 'vegetarian', 'strictly vegetarian': 'vegetarian',\n",
    "                                               'strictly vegan': 'vegan', 'mostly vegan': 'vegan', 'mostly halal': 'halal',\n",
    "                                               'strictly halal': 'halal', 'mostly kosher': 'kosher',\n",
    "                                               'strictly kosher': 'kosher'},\n",
    "                                       \"drinks\": {'socially': \"yes\", 'often': \"yes\", 'rarely': \"yes\", 'very often': \"yes\",\n",
    "                                                 'desperately': \"yes\", 'not at all': \"no\"},\n",
    "                                       \"offspring\": {'doesn&rsquo;t have kids, but might want them': \"no\",\n",
    "                                                     'doesn&rsquo;t want kids': \"no\", 'might want kids': \"no\",\n",
    "                                                     'doesn&rsquo;t have kids, but wants them': \"no\",\n",
    "                                                     'doesn&rsquo;t have kids': \"no\", 'wants kids': \"no\",                                                     \n",
    "                                                     'doesn&rsquo;t have kids, and doesn&rsquo;t want any': \"no\",\n",
    "                                                     'has a kid': \"yes\", 'has kids': \"yes\",\n",
    "                                                     'has kids, but doesn&rsquo;t want more': \"yes\",\n",
    "                                                     'has a kid, but doesn&rsquo;t want more': \"yes\",\n",
    "                                                     'has a kid, and wants more': \"yes\", 'has kids, and might want more': \"yes\",\n",
    "                                                     'has a kid, and might want more': \"yes\",\n",
    "                                                     'has kids, and wants more': \"yes\"},\n",
    "                                       \"smokes\": {'sometimes': 'yes', 'when drinking': 'yes', 'trying to quit': 'yes'}})\n",
    "\n",
    "for column in no_sign_columns:\n",
    "    category_values(profiles_no_sign, column, profiles_no_sign[column].unique())\n",
    "    \n",
    "print(profiles_no_sign.head())"
   ]
  },
  {
   "cell_type": "markdown",
   "metadata": {},
   "source": [
    "## Choosing and building the model\n",
    "\n",
    "We are trying to predict the missing sing, and there are twelve of them, wich means that there are twelve possible categories.\n",
    "\n",
    "After analysing the knowned algorithms I chosed the K_Nearest Neighbors Classifier."
   ]
  },
  {
   "cell_type": "code",
   "execution_count": 20,
   "metadata": {},
   "outputs": [
    {
     "data": {
      "text/plain": [
       "Text(0, 0.5, 'Accuracy')"
      ]
     },
     "execution_count": 20,
     "metadata": {},
     "output_type": "execute_result"
    },
    {
     "data": {
      "image/png": "[encoded data removed]",
      "text/plain": [
       "<Figure size 432x288 with 1 Axes>"
      ]
     },
     "metadata": {
      "needs_background": "light"
     },
     "output_type": "display_data"
    }
   ],
   "source": [
    "from sklearn.model_selection import train_test_split\n",
    "from sklearn.neighbors import KNeighborsClassifier\n",
    "\n",
    "train_data, test_data, train_labels, test_labels = train_test_split(profiles_sign[no_sign_columns], profiles_sign[\"sign\"], test_size = 0.2, random_state = 1)\n",
    "\n",
    "#choosing best accury\n",
    "accuracies = []\n",
    "for k in range(1, 101):\n",
    "    classifier = KNeighborsClassifier(n_neighbors = k)\n",
    "    classifier.fit(train_data, train_labels)\n",
    "    accuracies.append(classifier.score(test_data, test_labels))\n",
    "    \n",
    "#plotting the k's\n",
    "plt.plot(list(range(1, 101)), accuracies)\n",
    "plt.title(\"Best k\")\n",
    "plt.xlabel(\"k\")\n",
    "plt.ylabel(\"Accuracy\")"
   ]
  },
  {
   "cell_type": "code",
   "execution_count": null,
   "metadata": {},
   "outputs": [],
   "source": []
  }
 ],
 "metadata": {
  "kernelspec": {
   "display_name": "Python 3",
   "language": "python",
   "name": "python3"
  },
  "language_info": {
   "codemirror_mode": {
    "name": "ipython",
    "version": 3
   },
   "file_extension": ".py",
   "mimetype": "text/x-python",
   "name": "python",
   "nbconvert_exporter": "python",
   "pygments_lexer": "ipython3",
   "version": "3.7.6"
  }
 },
 "nbformat": 4,
 "nbformat_minor": 4
}
